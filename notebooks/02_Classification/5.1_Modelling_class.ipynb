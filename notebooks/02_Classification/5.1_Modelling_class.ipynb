{
 "cells": [
  {
   "cell_type": "code",
   "execution_count": 1,
   "metadata": {},
   "outputs": [],
   "source": [
    "# Import modules\n",
    "import os\n",
    "import pandas as pd\n",
    "import matplotlib\n",
    "import matplotlib.pyplot as plt\n",
    "import numpy as np\n",
    "import datetime as dt\n",
    "\n",
    "from sklearn.preprocessing import MinMaxScaler, StandardScaler\n",
    "\n",
    "from sklearn.model_selection import train_test_split, cross_validate, GridSearchCV\n",
    "\n",
    "from sklearn.ensemble import RandomForestClassifier\n",
    "\n",
    "from sklearn.cluster import KMeans\n",
    "\n",
    "from xgboost import XGBClassifier\n",
    "\n",
    "from sklearn.feature_selection import SelectKBest, f_classif\n",
    "\n",
    "from sklearn.metrics import (accuracy_score, balanced_accuracy_score, precision_score, recall_score, confusion_matrix,\n",
    "    plot_confusion_matrix, make_scorer,multilabel_confusion_matrix,ConfusionMatrixDisplay)\n",
    "\n",
    "from sklearn.pipeline import make_pipeline, Pipeline\n",
    "\n",
    "from sklearn.dummy import DummyClassifier\n",
    "\n",
    "import warnings\n",
    "\n",
    "today = dt.date.today()\n",
    "this_month = pd.to_datetime(str(today.year)+'-'+str(today.month)+'-01')\n",
    "\n",
    "rng = 2308168484 #int(np.random.default_rng().random()*(2**32))\n",
    "\n",
    "%matplotlib inline\n",
    "%qtconsole"
   ]
  },
  {
   "cell_type": "code",
   "execution_count": 2,
   "metadata": {},
   "outputs": [],
   "source": [
    "# Define local directories\n",
    "master_dir = 'C:\\\\Users\\\\Bryan\\\\OneDrive\\\\02 GitHub\\\\rig-count_L48\\\\'\n",
    "data_raw_dir = 'C:\\\\Users\\\\Bryan\\\\OneDrive\\\\02 GitHub\\\\rig-count_L48\\\\data\\\\raw\\\\'\n",
    "data_interim_dir = 'C:\\\\Users\\\\Bryan\\\\OneDrive\\\\02 GitHub\\\\rig-count_L48\\\\data\\\\interim\\\\'\n",
    "data_processed_dir = 'C:\\\\Users\\\\Bryan\\\\OneDrive\\\\02 GitHub\\\\rig-count_L48\\\\data\\\\processed\\\\'\n",
    "data_external_dir = 'C:\\\\Users\\\\Bryan\\\\OneDrive\\\\02 GitHub\\\\rig-count_L48\\\\data\\\\external\\\\'"
   ]
  },
  {
   "cell_type": "code",
   "execution_count": 3,
   "metadata": {},
   "outputs": [
    {
     "data": {
      "text/html": [
       "<div>\n",
       "<style scoped>\n",
       "    .dataframe tbody tr th:only-of-type {\n",
       "        vertical-align: middle;\n",
       "    }\n",
       "\n",
       "    .dataframe tbody tr th {\n",
       "        vertical-align: top;\n",
       "    }\n",
       "\n",
       "    .dataframe thead th {\n",
       "        text-align: right;\n",
       "    }\n",
       "</style>\n",
       "<table border=\"1\" class=\"dataframe\">\n",
       "  <thead>\n",
       "    <tr style=\"text-align: right;\">\n",
       "      <th></th>\n",
       "      <th>date</th>\n",
       "      <th>Total US RigCount</th>\n",
       "      <th>wti_spot_lag_15</th>\n",
       "      <th>wti_spot_lag_9</th>\n",
       "      <th>wti_spot</th>\n",
       "      <th>brent_spot</th>\n",
       "      <th>wti_fut_1</th>\n",
       "      <th>wti_fut_2</th>\n",
       "      <th>wti_fut_3</th>\n",
       "      <th>wti_fut_4</th>\n",
       "      <th>...</th>\n",
       "      <th>oecd_cons_smooth</th>\n",
       "      <th>oecd_cons</th>\n",
       "      <th>non-oecd_cons_smooth</th>\n",
       "      <th>non-oecd_cons</th>\n",
       "      <th>world_cons_smooth</th>\n",
       "      <th>world_cons</th>\n",
       "      <th>rig_change_4bin_week+4</th>\n",
       "      <th>rig_change_4bin_week+8</th>\n",
       "      <th>rig_pct_change_week+4</th>\n",
       "      <th>rig_pct_change_week+8</th>\n",
       "    </tr>\n",
       "  </thead>\n",
       "  <tbody>\n",
       "    <tr>\n",
       "      <th>0</th>\n",
       "      <td>2020-08-14</td>\n",
       "      <td>172.0</td>\n",
       "      <td>23.464</td>\n",
       "      <td>37.872</td>\n",
       "      <td>42.076</td>\n",
       "      <td>44.538</td>\n",
       "      <td>42.094</td>\n",
       "      <td>42.364</td>\n",
       "      <td>42.692</td>\n",
       "      <td>42.996</td>\n",
       "      <td>...</td>\n",
       "      <td>37.872</td>\n",
       "      <td>42.782417</td>\n",
       "      <td>37.872</td>\n",
       "      <td>51.707156</td>\n",
       "      <td>37.872</td>\n",
       "      <td>94.489573</td>\n",
       "      <td>++</td>\n",
       "      <td>++</td>\n",
       "      <td>0.046512</td>\n",
       "      <td>0.122093</td>\n",
       "    </tr>\n",
       "    <tr>\n",
       "      <th>1</th>\n",
       "      <td>2020-08-07</td>\n",
       "      <td>176.0</td>\n",
       "      <td>15.712</td>\n",
       "      <td>37.322</td>\n",
       "      <td>41.568</td>\n",
       "      <td>44.356</td>\n",
       "      <td>41.614</td>\n",
       "      <td>41.868</td>\n",
       "      <td>42.214</td>\n",
       "      <td>42.514</td>\n",
       "      <td>...</td>\n",
       "      <td>37.322</td>\n",
       "      <td>42.807514</td>\n",
       "      <td>37.322</td>\n",
       "      <td>51.382073</td>\n",
       "      <td>37.322</td>\n",
       "      <td>94.189587</td>\n",
       "      <td>++</td>\n",
       "      <td>++</td>\n",
       "      <td>0.028409</td>\n",
       "      <td>0.073864</td>\n",
       "    </tr>\n",
       "  </tbody>\n",
       "</table>\n",
       "<p>2 rows × 30 columns</p>\n",
       "</div>"
      ],
      "text/plain": [
       "        date  Total US RigCount  wti_spot_lag_15  wti_spot_lag_9  wti_spot  \\\n",
       "0 2020-08-14              172.0           23.464          37.872    42.076   \n",
       "1 2020-08-07              176.0           15.712          37.322    41.568   \n",
       "\n",
       "   brent_spot  wti_fut_1  wti_fut_2  wti_fut_3  wti_fut_4  ...  \\\n",
       "0      44.538     42.094     42.364     42.692     42.996  ...   \n",
       "1      44.356     41.614     41.868     42.214     42.514  ...   \n",
       "\n",
       "   oecd_cons_smooth  oecd_cons  non-oecd_cons_smooth  non-oecd_cons  \\\n",
       "0            37.872  42.782417                37.872      51.707156   \n",
       "1            37.322  42.807514                37.322      51.382073   \n",
       "\n",
       "   world_cons_smooth  world_cons  rig_change_4bin_week+4  \\\n",
       "0             37.872   94.489573                      ++   \n",
       "1             37.322   94.189587                      ++   \n",
       "\n",
       "   rig_change_4bin_week+8  rig_pct_change_week+4  rig_pct_change_week+8  \n",
       "0                      ++               0.046512               0.122093  \n",
       "1                      ++               0.028409               0.073864  \n",
       "\n",
       "[2 rows x 30 columns]"
      ]
     },
     "execution_count": 3,
     "metadata": {},
     "output_type": "execute_result"
    }
   ],
   "source": [
    "df = pd.read_csv(data_processed_dir+'processed_data_weekly_class.csv')\n",
    "df.date = pd.to_datetime(df.date)\n",
    "df = df.sort_values(by='date', ascending=False)\n",
    "df.head(2)"
   ]
  },
  {
   "cell_type": "code",
   "execution_count": 4,
   "metadata": {},
   "outputs": [
    {
     "data": {
      "text/plain": [
       "Index(['date', 'Total US RigCount', 'wti_spot_lag_15', 'wti_spot_lag_9',\n",
       "       'wti_spot', 'brent_spot', 'wti_fut_1', 'wti_fut_2', 'wti_fut_3',\n",
       "       'wti_fut_4', 'usa_net_import_smooth', 'usa_net_import',\n",
       "       'usa_stocks_all', 'usa_stocks_spr', 'usa_l48_prod_smooth',\n",
       "       'usa_l48_prod', 'opec_tot_prod', 'opec_crud_capac', 'opec_surp_capac',\n",
       "       'non-opec_tot_prod', 'oecd_cons_smooth', 'oecd_cons',\n",
       "       'non-oecd_cons_smooth', 'non-oecd_cons', 'world_cons_smooth',\n",
       "       'world_cons', 'rig_change_4bin_week+4', 'rig_change_4bin_week+8',\n",
       "       'rig_pct_change_week+4', 'rig_pct_change_week+8'],\n",
       "      dtype='object')"
      ]
     },
     "execution_count": 4,
     "metadata": {},
     "output_type": "execute_result"
    }
   ],
   "source": [
    "num_col_rig_change = df.columns.str.contains('rig_').sum()\n",
    "\n",
    "df.columns"
   ]
  },
  {
   "cell_type": "code",
   "execution_count": 5,
   "metadata": {},
   "outputs": [],
   "source": [
    "df = df.drop(['brent_spot','wti_fut_1','wti_fut_2','wti_fut_3','wti_fut_4','usa_l48_prod','world_cons_smooth','world_cons','oecd_cons','non-oecd_cons','non-oecd_cons_smooth','usa_stocks_all'],axis=1)"
   ]
  },
  {
   "cell_type": "code",
   "execution_count": 6,
   "metadata": {},
   "outputs": [],
   "source": [
    "df = df.drop(['wti_spot_lag_15','wti_spot_lag_9'],axis=1)"
   ]
  },
  {
   "cell_type": "code",
   "execution_count": 7,
   "metadata": {
    "scrolled": true
   },
   "outputs": [
    {
     "data": {
      "text/plain": [
       "(498, 16)"
      ]
     },
     "execution_count": 7,
     "metadata": {},
     "output_type": "execute_result"
    }
   ],
   "source": [
    "df.shape"
   ]
  },
  {
   "cell_type": "markdown",
   "metadata": {},
   "source": [
    "## Train Test Split\n",
    "Define features X, and target variable y"
   ]
  },
  {
   "cell_type": "code",
   "execution_count": 8,
   "metadata": {},
   "outputs": [],
   "source": [
    "X = pd.concat([df.iloc[:,2:-num_col_rig_change],df[df.columns[df.columns.str.contains('rig_pct')]]],axis=1)\n",
    "y = df.loc[:,'rig_change_4bin_week+8']\n",
    "\n",
    "old_class = ['--','-','+','++']\n",
    "new_class = [int(0),int(1),int(2),int(3)]\n",
    "\n",
    "X_train, X_test, y_train, y_test = train_test_split(X,y,test_size=0.33,random_state=rng)\n",
    "\n",
    "pct_change_train = X_train[X_train.columns[X_train.columns.str.contains('rig_pct')]]\n",
    "pct_change_test = X_test[X_train.columns[X_train.columns.str.contains('rig_pct')]]\n",
    "\n",
    "X_train = X_train[X_train.columns[~X_train.columns.str.contains('rig_pct')]]\n",
    "\n",
    "X_test = X_test[X_train.columns[~X_train.columns.str.contains('rig_pct')]]\n",
    "\n",
    "X = df.iloc[:,2:-num_col_rig_change]\n",
    "\n",
    "model_score = pd.DataFrame(columns=['accuracy','balanced accuracy','precision avg','recall avg','precision (++)','precision (+)','precision (-)','precision (--)','recall (++)','recall (+)','recall (-)','recall (--)','pos neg class','max depth'])"
   ]
  },
  {
   "cell_type": "code",
   "execution_count": 9,
   "metadata": {},
   "outputs": [
    {
     "data": {
      "image/png": "[encoded data removed]",
      "text/plain": [
       "<Figure size 720x360 with 1 Axes>"
      ]
     },
     "metadata": {
      "needs_background": "light"
     },
     "output_type": "display_data"
    }
   ],
   "source": [
    "fig, ax = plt.subplots(figsize=(10,5))\n",
    "ax.plot(df.date,df['Total US RigCount'],c='b',alpha=0.5,label='Rig Count Data')\n",
    "ax.scatter(df.date[y_train.sort_index().index],df['Total US RigCount'][y_train.sort_index().index],c='r',alpha=1,s=10,label='Train')\n",
    "ax.scatter(df.date[y_test.sort_index().index],df['Total US RigCount'][y_test.sort_index().index], c='g',alpha=1,s=10,label='Test')\n",
    "    \n",
    "ax.set(title='Train / Test Split',xlabel='Date',ylabel='Rig Count')\n",
    "ax.legend()\n",
    "plt.show()"
   ]
  },
  {
   "cell_type": "code",
   "execution_count": 10,
   "metadata": {},
   "outputs": [],
   "source": [
    "# Define functions\n",
    "def data_split_week(X,y,pipe,model_name,seed):\n",
    "    \n",
    "    for i in range(1,31):\n",
    "        X_train, X_test, y_train, y_test = train_test_split(X,y['rig_change_4bin_week+'+str(i)],test_size=0.33,random_state=seed)\n",
    "\n",
    "        pipe.fit(X_train,y_train)\n",
    "\n",
    "        y_pred = pipe.predict(X_test)\n",
    "\n",
    "        add_model_score(pipe,model_name+'_week+'+str(i),y_test,y_pred)\n",
    "    \n",
    "    return model_score.tail(30), pipe\n",
    "\n",
    "def add_model_score(model,model_name,y_test,y_pred):\n",
    "    model_score.loc[model_name,'accuracy'] = accuracy_score(y_test,y_pred)    \n",
    "    model_score.loc[model_name,'balanced accuracy'] = balanced_accuracy_score(y_test,y_pred)\n",
    "    \n",
    "    precision_arr = precision_score(y_test,y_pred,average=None,labels=['++','+','-','--'])\n",
    "    recall_arr = recall_score(y_test,y_pred,average=None,labels=['++','+','-','--'])\n",
    "    \n",
    "    precision_arr_weight = precision_score(y_test,y_pred,average='weighted',labels=['++','+','-','--']) \n",
    "    recall_arr_weight = recall_score(y_test,y_pred,average='weighted',labels=['++','+','-','--'])\n",
    "    \n",
    "    model_score.loc[model_name,'precision avg'] = precision_arr_weight\n",
    "    model_score.loc[model_name,'recall avg'] = recall_arr_weight\n",
    "    \n",
    "    model_score.loc[model_name,'precision (++)'] = precision_arr[0]\n",
    "    model_score.loc[model_name,'precision (+)'] = precision_arr[1]\n",
    "    model_score.loc[model_name,'precision (-)'] = precision_arr[2]\n",
    "    model_score.loc[model_name,'precision (--)'] = precision_arr[3]\n",
    "    \n",
    "    model_score.loc[model_name,'recall (++)'] = recall_arr[0]\n",
    "    model_score.loc[model_name,'recall (+)'] = recall_arr[1]\n",
    "    model_score.loc[model_name,'recall (-)'] = recall_arr[2]\n",
    "    model_score.loc[model_name,'recall (--)'] = recall_arr[3]\n",
    "    \n",
    "    model_score.loc[model_name,'pos neg class'] = scorer_pos_neg_class(y_test,y_pred)\n",
    "    \n",
    "    if ('RFC' in model_name) or ('XGB' in model_name):\n",
    "        \n",
    "        if ~('base' in model_name):\n",
    "            model_score.loc[model_name,'max depth'] = model.best_estimator_.named_steps.model.max_depth\n",
    "        else:\n",
    "            model_score.loc[model_name,'max depth'] = np.nan\n",
    "    else : \n",
    "        model_score.loc[model_name,'max depth'] = np.nan\n",
    "    \n",
    "    return model_score[model_score.index == model_name]\n",
    "    \n",
    "def feat_imp(model):\n",
    "    plt.subplots(figsize=(10, 5))\n",
    "    imps = model.best_estimator_.named_steps.model.feature_importances_\n",
    "    rf_feat_imps = pd.Series(imps, index=X.columns).sort_values(ascending=False)\n",
    "    rf_feat_imps.plot(kind='bar')\n",
    "    plt.xlabel('Features')\n",
    "    plt.ylabel('Importance')\n",
    "    plt.title('Best feature importances');\n",
    "    \n",
    "    return plt.show()\n",
    "\n",
    "\n",
    "def plot_feat_opti(grid_params,param_range,scoring):\n",
    "\n",
    "    param_series = pd.Series([],dtype=float)\n",
    "    param_range = param_range\n",
    "\n",
    "    for param in param_range:\n",
    "        \n",
    "        pipe = GridSearchCV(make_pipeline(scaler,model),scoring='recall_weighted',param_grid=grid_params,cv=5,n_jobs=-1)\n",
    "\n",
    "        pipe.fit(X_train,y_train)\n",
    "\n",
    "        y_pred = pipe.predict(X_test)\n",
    "      \n",
    "        param_series = param_series.append(pd.Series(scoring(y_test,y_pred)),ignore_index=True)\n",
    "    \n",
    "    return plt.plot(param_range,param_series,marker='o')\n",
    "\n",
    "def scorer_pos_neg_class(y_test,y_pred):\n",
    "    mat_conf = confusion_matrix(y_test,y_pred)\n",
    "\n",
    "    pos_2_neg = mat_conf[[0,1],2:].sum()\n",
    "    neg_2_pos = mat_conf[[2,3],:2].sum()\n",
    "\n",
    "    pos_neg_misclass = 1-(pos_2_neg+neg_2_pos)/mat_conf.sum()\n",
    "    \n",
    "    return pos_neg_misclass\n",
    "\n",
    "def scorer_confusion_matrix(y_test,y_pred):\n",
    "    return confusion_matrix(y_test,y_pred)\n",
    "\n",
    "recall_neg_scorer = make_scorer(recall_score,average=None,labels=['-'],greater_is_better=True)\n",
    "pos_neg_class_scorer = make_scorer(scorer_pos_neg_class,greater_is_better=True)\n",
    "\n",
    "confusion_matrix_scorer = make_scorer(scorer_confusion_matrix)"
   ]
  },
  {
   "cell_type": "markdown",
   "metadata": {},
   "source": [
    "## Baseline Dummy Classifier"
   ]
  },
  {
   "cell_type": "code",
   "execution_count": 11,
   "metadata": {},
   "outputs": [
    {
     "data": {
      "text/html": [
       "<div>\n",
       "<style scoped>\n",
       "    .dataframe tbody tr th:only-of-type {\n",
       "        vertical-align: middle;\n",
       "    }\n",
       "\n",
       "    .dataframe tbody tr th {\n",
       "        vertical-align: top;\n",
       "    }\n",
       "\n",
       "    .dataframe thead th {\n",
       "        text-align: right;\n",
       "    }\n",
       "</style>\n",
       "<table border=\"1\" class=\"dataframe\">\n",
       "  <thead>\n",
       "    <tr style=\"text-align: right;\">\n",
       "      <th></th>\n",
       "      <th>accuracy</th>\n",
       "      <th>balanced accuracy</th>\n",
       "      <th>precision avg</th>\n",
       "      <th>recall avg</th>\n",
       "      <th>precision (++)</th>\n",
       "      <th>precision (+)</th>\n",
       "      <th>precision (-)</th>\n",
       "      <th>precision (--)</th>\n",
       "      <th>recall (++)</th>\n",
       "      <th>recall (+)</th>\n",
       "      <th>recall (-)</th>\n",
       "      <th>recall (--)</th>\n",
       "      <th>pos neg class</th>\n",
       "      <th>max depth</th>\n",
       "    </tr>\n",
       "  </thead>\n",
       "  <tbody>\n",
       "    <tr>\n",
       "      <th>baseline_dummy_class</th>\n",
       "      <td>0.260606</td>\n",
       "      <td>0.250352</td>\n",
       "      <td>0.26108</td>\n",
       "      <td>0.260606</td>\n",
       "      <td>0.210526</td>\n",
       "      <td>0.375</td>\n",
       "      <td>0.147059</td>\n",
       "      <td>0.266667</td>\n",
       "      <td>0.186047</td>\n",
       "      <td>0.375</td>\n",
       "      <td>0.16129</td>\n",
       "      <td>0.27907</td>\n",
       "      <td>0.509091</td>\n",
       "      <td>NaN</td>\n",
       "    </tr>\n",
       "  </tbody>\n",
       "</table>\n",
       "</div>"
      ],
      "text/plain": [
       "                      accuracy balanced accuracy precision avg recall avg  \\\n",
       "baseline_dummy_class  0.260606          0.250352       0.26108   0.260606   \n",
       "\n",
       "                     precision (++) precision (+) precision (-)  \\\n",
       "baseline_dummy_class       0.210526         0.375      0.147059   \n",
       "\n",
       "                     precision (--) recall (++) recall (+) recall (-)  \\\n",
       "baseline_dummy_class       0.266667    0.186047      0.375    0.16129   \n",
       "\n",
       "                     recall (--) pos neg class max depth  \n",
       "baseline_dummy_class     0.27907      0.509091       NaN  "
      ]
     },
     "execution_count": 11,
     "metadata": {},
     "output_type": "execute_result"
    }
   ],
   "source": [
    "model = DummyClassifier(strategy='stratified')\n",
    "scaler = StandardScaler()\n",
    "feat_sel = SelectKBest(score_func=f_classif)\n",
    "\n",
    "grid_params = {\n",
    "    'model__random_state' : [403], #np.arange(1,1000,step=1),\n",
    "    'feat_sel__k': [4], #np.arange(1,X.shape[1]+1,step=1),\n",
    "    'scaler': [StandardScaler()] #, MinMaxScaler(),None]\n",
    "}\n",
    "\n",
    "model_name = 'baseline_dummy_class'\n",
    "\n",
    "base_dummy_pipe = GridSearchCV(Pipeline([('feat_sel',feat_sel),('scaler',scaler),('model',model)]),scoring=pos_neg_class_scorer,param_grid=grid_params,cv=5,n_jobs=-1)\n",
    "\n",
    "base_dummy_pipe.fit(X_train,y_train)\n",
    "\n",
    "y_pred = base_dummy_pipe.predict(X_test)\n",
    "\n",
    "add_model_score(base_dummy_pipe,model_name,y_test,y_pred)"
   ]
  },
  {
   "cell_type": "code",
   "execution_count": 12,
   "metadata": {},
   "outputs": [
    {
     "data": {
      "text/plain": [
       "wti_spot                 40.642929\n",
       "usa_l48_prod_smooth      29.375103\n",
       "usa_net_import_smooth    28.072904\n",
       "usa_net_import           27.017114\n",
       "dtype: float64"
      ]
     },
     "execution_count": 12,
     "metadata": {},
     "output_type": "execute_result"
    }
   ],
   "source": [
    "pd.Series(base_dummy_pipe.best_estimator_.named_steps.feat_sel.scores_[base_dummy_pipe.best_estimator_.named_steps.feat_sel.get_support()], index=X.columns[base_dummy_pipe.best_estimator_.named_steps.feat_sel.get_support()]).sort_values(ascending=False)"
   ]
  },
  {
   "cell_type": "code",
   "execution_count": 13,
   "metadata": {},
   "outputs": [
    {
     "data": {
      "text/plain": [
       "<sklearn.metrics._plot.confusion_matrix.ConfusionMatrixDisplay at 0x21944c59408>"
      ]
     },
     "execution_count": 13,
     "metadata": {},
     "output_type": "execute_result"
    },
    {
     "data": {
      "image/png": "[encoded data removed]",
      "text/plain": [
       "<Figure size 432x288 with 2 Axes>"
      ]
     },
     "metadata": {
      "needs_background": "light"
     },
     "output_type": "display_data"
    }
   ],
   "source": [
    "plot_confusion_matrix(base_dummy_pipe,X_test,y_test)"
   ]
  },
  {
   "cell_type": "markdown",
   "metadata": {},
   "source": [
    "## KMeans Clustering"
   ]
  },
  {
   "cell_type": "code",
   "execution_count": 14,
   "metadata": {},
   "outputs": [],
   "source": [
    "y_kmeans_train = y_train.copy()\n",
    "y_kmeans_test = y_test.copy()\n",
    "\n",
    "for i in range(len(old_class)):\n",
    "    y_kmeans_train[y_kmeans_train == old_class[i]] = new_class[i]\n",
    "    y_kmeans_test[y_kmeans_test == old_class[i]] = new_class[i]\n"
   ]
  },
  {
   "cell_type": "code",
   "execution_count": 15,
   "metadata": {},
   "outputs": [],
   "source": [
    "model = KMeans(n_clusters = 4)\n",
    "model_name = 'KMeans_base'\n",
    "\n",
    "KM_base_pipe = Pipeline([('model',model)])\n",
    "\n",
    "KM_base_pipe.fit(X_train,y_kmeans_train)\n",
    "\n",
    "y_pred = KM_base_pipe.predict(X_test)"
   ]
  },
  {
   "cell_type": "code",
   "execution_count": 16,
   "metadata": {},
   "outputs": [
    {
     "data": {
      "text/html": [
       "<div>\n",
       "<style scoped>\n",
       "    .dataframe tbody tr th:only-of-type {\n",
       "        vertical-align: middle;\n",
       "    }\n",
       "\n",
       "    .dataframe tbody tr th {\n",
       "        vertical-align: top;\n",
       "    }\n",
       "\n",
       "    .dataframe thead th {\n",
       "        text-align: right;\n",
       "    }\n",
       "</style>\n",
       "<table border=\"1\" class=\"dataframe\">\n",
       "  <thead>\n",
       "    <tr style=\"text-align: right;\">\n",
       "      <th></th>\n",
       "      <th>accuracy</th>\n",
       "      <th>balanced accuracy</th>\n",
       "      <th>precision avg</th>\n",
       "      <th>recall avg</th>\n",
       "      <th>precision (++)</th>\n",
       "      <th>precision (+)</th>\n",
       "      <th>precision (-)</th>\n",
       "      <th>precision (--)</th>\n",
       "      <th>recall (++)</th>\n",
       "      <th>recall (+)</th>\n",
       "      <th>recall (-)</th>\n",
       "      <th>recall (--)</th>\n",
       "      <th>pos neg class</th>\n",
       "      <th>max depth</th>\n",
       "    </tr>\n",
       "  </thead>\n",
       "  <tbody>\n",
       "    <tr>\n",
       "      <th>KMeans_base</th>\n",
       "      <td>0.109091</td>\n",
       "      <td>0.119628</td>\n",
       "      <td>0.13212</td>\n",
       "      <td>0.109091</td>\n",
       "      <td>0.166667</td>\n",
       "      <td>0.0877193</td>\n",
       "      <td>0.258065</td>\n",
       "      <td>0.056338</td>\n",
       "      <td>0.0232558</td>\n",
       "      <td>0.104167</td>\n",
       "      <td>0.258065</td>\n",
       "      <td>0.0930233</td>\n",
       "      <td>0.430303</td>\n",
       "      <td>NaN</td>\n",
       "    </tr>\n",
       "  </tbody>\n",
       "</table>\n",
       "</div>"
      ],
      "text/plain": [
       "             accuracy balanced accuracy precision avg recall avg  \\\n",
       "KMeans_base  0.109091          0.119628       0.13212   0.109091   \n",
       "\n",
       "            precision (++) precision (+) precision (-) precision (--)  \\\n",
       "KMeans_base       0.166667     0.0877193      0.258065       0.056338   \n",
       "\n",
       "            recall (++) recall (+) recall (-) recall (--) pos neg class  \\\n",
       "KMeans_base   0.0232558   0.104167   0.258065   0.0930233      0.430303   \n",
       "\n",
       "            max depth  \n",
       "KMeans_base       NaN  "
      ]
     },
     "execution_count": 16,
     "metadata": {},
     "output_type": "execute_result"
    }
   ],
   "source": [
    "y_km_test_labelled = y_kmeans_test.copy()\n",
    "y_pred_labelled = pd.Series(y_pred).copy()\n",
    "\n",
    "for i in range(len(old_class)):\n",
    "    y_km_test_labelled[y_km_test_labelled == new_class[i]] = old_class[i]\n",
    "    y_pred_labelled[y_pred_labelled == new_class[i]] = old_class[i]\n",
    "\n",
    "add_model_score(model,model_name,y_km_test_labelled,y_pred_labelled)"
   ]
  },
  {
   "cell_type": "code",
   "execution_count": 17,
   "metadata": {},
   "outputs": [
    {
     "data": {
      "text/plain": [
       "<sklearn.metrics._plot.confusion_matrix.ConfusionMatrixDisplay at 0x21944ead5c8>"
      ]
     },
     "execution_count": 17,
     "metadata": {},
     "output_type": "execute_result"
    },
    {
     "data": {
      "image/png": "[encoded data removed]",
      "text/plain": [
       "<Figure size 432x288 with 2 Axes>"
      ]
     },
     "metadata": {
      "needs_background": "light"
     },
     "output_type": "display_data"
    }
   ],
   "source": [
    "cm = confusion_matrix(y_km_test_labelled,y_pred_labelled,labels=old_class)\n",
    "\n",
    "ConfusionMatrixDisplay(cm,display_labels=old_class).plot()"
   ]
  },
  {
   "cell_type": "markdown",
   "metadata": {},
   "source": [
    "Terrible performance from the base KMeans. Worse than random guess (1/4), and 50% of the points are incorrectly classified between negative and positive."
   ]
  },
  {
   "cell_type": "markdown",
   "metadata": {},
   "source": [
    "## Random Forest Classifier"
   ]
  },
  {
   "cell_type": "code",
   "execution_count": 18,
   "metadata": {
    "scrolled": true
   },
   "outputs": [
    {
     "data": {
      "text/html": [
       "<div>\n",
       "<style scoped>\n",
       "    .dataframe tbody tr th:only-of-type {\n",
       "        vertical-align: middle;\n",
       "    }\n",
       "\n",
       "    .dataframe tbody tr th {\n",
       "        vertical-align: top;\n",
       "    }\n",
       "\n",
       "    .dataframe thead th {\n",
       "        text-align: right;\n",
       "    }\n",
       "</style>\n",
       "<table border=\"1\" class=\"dataframe\">\n",
       "  <thead>\n",
       "    <tr style=\"text-align: right;\">\n",
       "      <th></th>\n",
       "      <th>accuracy</th>\n",
       "      <th>balanced accuracy</th>\n",
       "      <th>precision avg</th>\n",
       "      <th>recall avg</th>\n",
       "      <th>precision (++)</th>\n",
       "      <th>precision (+)</th>\n",
       "      <th>precision (-)</th>\n",
       "      <th>precision (--)</th>\n",
       "      <th>recall (++)</th>\n",
       "      <th>recall (+)</th>\n",
       "      <th>recall (-)</th>\n",
       "      <th>recall (--)</th>\n",
       "      <th>pos neg class</th>\n",
       "      <th>max depth</th>\n",
       "    </tr>\n",
       "  </thead>\n",
       "  <tbody>\n",
       "    <tr>\n",
       "      <th>RFC_base</th>\n",
       "      <td>0.854545</td>\n",
       "      <td>0.851807</td>\n",
       "      <td>0.857781</td>\n",
       "      <td>0.854545</td>\n",
       "      <td>0.886364</td>\n",
       "      <td>0.851064</td>\n",
       "      <td>0.735294</td>\n",
       "      <td>0.925</td>\n",
       "      <td>0.906977</td>\n",
       "      <td>0.833333</td>\n",
       "      <td>0.806452</td>\n",
       "      <td>0.860465</td>\n",
       "      <td>0.963636</td>\n",
       "      <td>None</td>\n",
       "    </tr>\n",
       "  </tbody>\n",
       "</table>\n",
       "</div>"
      ],
      "text/plain": [
       "          accuracy balanced accuracy precision avg recall avg precision (++)  \\\n",
       "RFC_base  0.854545          0.851807      0.857781   0.854545       0.886364   \n",
       "\n",
       "         precision (+) precision (-) precision (--) recall (++) recall (+)  \\\n",
       "RFC_base      0.851064      0.735294          0.925    0.906977   0.833333   \n",
       "\n",
       "         recall (-) recall (--) pos neg class max depth  \n",
       "RFC_base   0.806452    0.860465      0.963636      None  "
      ]
     },
     "execution_count": 18,
     "metadata": {},
     "output_type": "execute_result"
    }
   ],
   "source": [
    "model = RandomForestClassifier(random_state=42)\n",
    "model_name = 'RFC_base'\n",
    "\n",
    "grid_params={}\n",
    "\n",
    "RF_base_pipe = GridSearchCV(Pipeline([('model',model)]),scoring=pos_neg_class_scorer,cv=5,param_grid=grid_params,n_jobs=-1)\n",
    "\n",
    "RF_base_pipe.fit(X_train,y_train)\n",
    "\n",
    "y_pred = RF_base_pipe.predict(X_test)\n",
    "\n",
    "add_model_score(RF_base_pipe,model_name,y_test,y_pred)\n"
   ]
  },
  {
   "cell_type": "code",
   "execution_count": 19,
   "metadata": {
    "scrolled": false
   },
   "outputs": [
    {
     "data": {
      "image/png": "[encoded data removed]",
      "text/plain": [
       "<Figure size 720x360 with 1 Axes>"
      ]
     },
     "metadata": {
      "needs_background": "light"
     },
     "output_type": "display_data"
    }
   ],
   "source": [
    "feat_imp(RF_base_pipe)"
   ]
  },
  {
   "cell_type": "code",
   "execution_count": 20,
   "metadata": {},
   "outputs": [
    {
     "data": {
      "text/plain": [
       "<sklearn.metrics._plot.confusion_matrix.ConfusionMatrixDisplay at 0x219456fbbc8>"
      ]
     },
     "execution_count": 20,
     "metadata": {},
     "output_type": "execute_result"
    },
    {
     "data": {
      "image/png": "[encoded data removed]",
      "text/plain": [
       "<Figure size 432x288 with 2 Axes>"
      ]
     },
     "metadata": {
      "needs_background": "light"
     },
     "output_type": "display_data"
    }
   ],
   "source": [
    "plot_confusion_matrix(RF_base_pipe,X_test,y_test)"
   ]
  },
  {
   "cell_type": "code",
   "execution_count": 21,
   "metadata": {},
   "outputs": [
    {
     "data": {
      "text/html": [
       "<div>\n",
       "<style scoped>\n",
       "    .dataframe tbody tr th:only-of-type {\n",
       "        vertical-align: middle;\n",
       "    }\n",
       "\n",
       "    .dataframe tbody tr th {\n",
       "        vertical-align: top;\n",
       "    }\n",
       "\n",
       "    .dataframe thead th {\n",
       "        text-align: right;\n",
       "    }\n",
       "</style>\n",
       "<table border=\"1\" class=\"dataframe\">\n",
       "  <thead>\n",
       "    <tr style=\"text-align: right;\">\n",
       "      <th></th>\n",
       "      <th>accuracy</th>\n",
       "      <th>balanced accuracy</th>\n",
       "      <th>precision avg</th>\n",
       "      <th>recall avg</th>\n",
       "      <th>precision (++)</th>\n",
       "      <th>precision (+)</th>\n",
       "      <th>precision (-)</th>\n",
       "      <th>precision (--)</th>\n",
       "      <th>recall (++)</th>\n",
       "      <th>recall (+)</th>\n",
       "      <th>recall (-)</th>\n",
       "      <th>recall (--)</th>\n",
       "      <th>pos neg class</th>\n",
       "      <th>max depth</th>\n",
       "    </tr>\n",
       "  </thead>\n",
       "  <tbody>\n",
       "    <tr>\n",
       "      <th>RFC_pos_neg_class</th>\n",
       "      <td>0.830303</td>\n",
       "      <td>0.826906</td>\n",
       "      <td>0.832617</td>\n",
       "      <td>0.830303</td>\n",
       "      <td>0.863636</td>\n",
       "      <td>0.8125</td>\n",
       "      <td>0.727273</td>\n",
       "      <td>0.9</td>\n",
       "      <td>0.883721</td>\n",
       "      <td>0.8125</td>\n",
       "      <td>0.774194</td>\n",
       "      <td>0.837209</td>\n",
       "      <td>0.945455</td>\n",
       "      <td>8</td>\n",
       "    </tr>\n",
       "  </tbody>\n",
       "</table>\n",
       "</div>"
      ],
      "text/plain": [
       "                   accuracy balanced accuracy precision avg recall avg  \\\n",
       "RFC_pos_neg_class  0.830303          0.826906      0.832617   0.830303   \n",
       "\n",
       "                  precision (++) precision (+) precision (-) precision (--)  \\\n",
       "RFC_pos_neg_class       0.863636        0.8125      0.727273            0.9   \n",
       "\n",
       "                  recall (++) recall (+) recall (-) recall (--) pos neg class  \\\n",
       "RFC_pos_neg_class    0.883721     0.8125   0.774194    0.837209      0.945455   \n",
       "\n",
       "                  max depth  \n",
       "RFC_pos_neg_class         8  "
      ]
     },
     "execution_count": 21,
     "metadata": {},
     "output_type": "execute_result"
    }
   ],
   "source": [
    "model = RandomForestClassifier(random_state=42)\n",
    "scaler = StandardScaler()\n",
    "\n",
    "grid_params = {\n",
    "    'model__n_estimators': [103], #np.arange(start=90,stop=110,step=1),\n",
    "    'model__max_depth': [8], #np.arange(1,15,step=1),\n",
    "    'model__criterion': ['entropy'], #['gini','entropy'],\n",
    "    'model__max_features': [2], #np.arange(1,X.shape[1]+1,step=1),\n",
    "    'scaler': [StandardScaler()] #, MinMaxScaler(),None]\n",
    "}\n",
    "\n",
    "model_name = 'RFC_pos_neg_class'\n",
    "\n",
    "RF_pnm_pipe = GridSearchCV(Pipeline([('scaler',scaler),('model',model)]),scoring=pos_neg_class_scorer,param_grid=grid_params,cv=5,n_jobs=-1)\n",
    "\n",
    "RF_pnm_pipe.fit(X_train,y_train)\n",
    "\n",
    "y_pred = RF_pnm_pipe.predict(X_test)\n",
    "\n",
    "add_model_score(RF_pnm_pipe,model_name,y_test,y_pred)"
   ]
  },
  {
   "cell_type": "code",
   "execution_count": 22,
   "metadata": {},
   "outputs": [
    {
     "data": {
      "image/png": "[encoded data removed]",
      "text/plain": [
       "<Figure size 720x360 with 1 Axes>"
      ]
     },
     "metadata": {
      "needs_background": "light"
     },
     "output_type": "display_data"
    }
   ],
   "source": [
    "feat_imp(RF_pnm_pipe)"
   ]
  },
  {
   "cell_type": "code",
   "execution_count": 23,
   "metadata": {},
   "outputs": [
    {
     "data": {
      "text/plain": [
       "<sklearn.metrics._plot.confusion_matrix.ConfusionMatrixDisplay at 0x21944c5c6c8>"
      ]
     },
     "execution_count": 23,
     "metadata": {},
     "output_type": "execute_result"
    },
    {
     "data": {
      "image/png": "[encoded data removed]",
      "text/plain": [
       "<Figure size 432x288 with 2 Axes>"
      ]
     },
     "metadata": {
      "needs_background": "light"
     },
     "output_type": "display_data"
    }
   ],
   "source": [
    "plot_confusion_matrix(RF_pnm_pipe,X_test,y_test)"
   ]
  },
  {
   "cell_type": "code",
   "execution_count": 24,
   "metadata": {},
   "outputs": [
    {
     "data": {
      "text/html": [
       "<div>\n",
       "<style scoped>\n",
       "    .dataframe tbody tr th:only-of-type {\n",
       "        vertical-align: middle;\n",
       "    }\n",
       "\n",
       "    .dataframe tbody tr th {\n",
       "        vertical-align: top;\n",
       "    }\n",
       "\n",
       "    .dataframe thead th {\n",
       "        text-align: right;\n",
       "    }\n",
       "</style>\n",
       "<table border=\"1\" class=\"dataframe\">\n",
       "  <thead>\n",
       "    <tr style=\"text-align: right;\">\n",
       "      <th></th>\n",
       "      <th>accuracy</th>\n",
       "      <th>balanced accuracy</th>\n",
       "      <th>precision avg</th>\n",
       "      <th>recall avg</th>\n",
       "      <th>precision (++)</th>\n",
       "      <th>precision (+)</th>\n",
       "      <th>precision (-)</th>\n",
       "      <th>precision (--)</th>\n",
       "      <th>recall (++)</th>\n",
       "      <th>recall (+)</th>\n",
       "      <th>recall (-)</th>\n",
       "      <th>recall (--)</th>\n",
       "      <th>pos neg class</th>\n",
       "      <th>max depth</th>\n",
       "    </tr>\n",
       "  </thead>\n",
       "  <tbody>\n",
       "    <tr>\n",
       "      <th>RFC_neg_recall</th>\n",
       "      <td>0.842424</td>\n",
       "      <td>0.837928</td>\n",
       "      <td>0.845481</td>\n",
       "      <td>0.842424</td>\n",
       "      <td>0.866667</td>\n",
       "      <td>0.833333</td>\n",
       "      <td>0.727273</td>\n",
       "      <td>0.923077</td>\n",
       "      <td>0.906977</td>\n",
       "      <td>0.833333</td>\n",
       "      <td>0.774194</td>\n",
       "      <td>0.837209</td>\n",
       "      <td>0.963636</td>\n",
       "      <td>9</td>\n",
       "    </tr>\n",
       "  </tbody>\n",
       "</table>\n",
       "</div>"
      ],
      "text/plain": [
       "                accuracy balanced accuracy precision avg recall avg  \\\n",
       "RFC_neg_recall  0.842424          0.837928      0.845481   0.842424   \n",
       "\n",
       "               precision (++) precision (+) precision (-) precision (--)  \\\n",
       "RFC_neg_recall       0.866667      0.833333      0.727273       0.923077   \n",
       "\n",
       "               recall (++) recall (+) recall (-) recall (--) pos neg class  \\\n",
       "RFC_neg_recall    0.906977   0.833333   0.774194    0.837209      0.963636   \n",
       "\n",
       "               max depth  \n",
       "RFC_neg_recall         9  "
      ]
     },
     "execution_count": 24,
     "metadata": {},
     "output_type": "execute_result"
    }
   ],
   "source": [
    "model = RandomForestClassifier(random_state=42)\n",
    "scaler = StandardScaler()\n",
    "\n",
    "grid_params = {\n",
    "    'model__n_estimators': [69], #np.arange(start=60,stop=80,step=1),\n",
    "    'model__max_depth': [9], #np.arange(1,15,step=1),\n",
    "    'model__criterion': ['entropy'], #['gini','entropy'],\n",
    "    'model__max_features': [3], #np.arange(1,X.shape[1]+1,step=1),\n",
    "    'scaler': [StandardScaler()] #, MinMaxScaler(),None]\n",
    "}\n",
    "\n",
    "model_name = 'RFC_neg_recall'\n",
    "\n",
    "RF_neg_rec_pipe = GridSearchCV(Pipeline([('scaler',scaler),('model',model)]),scoring=recall_neg_scorer,param_grid=grid_params,cv=5,n_jobs=-1)\n",
    "\n",
    "RF_neg_rec_pipe.fit(X_train,y_train)\n",
    "\n",
    "y_pred = RF_neg_rec_pipe.predict(X_test)\n",
    "\n",
    "add_model_score(RF_neg_rec_pipe,model_name,y_test,y_pred)"
   ]
  },
  {
   "cell_type": "code",
   "execution_count": 25,
   "metadata": {},
   "outputs": [
    {
     "data": {
      "image/png": "[encoded data removed]",
      "text/plain": [
       "<Figure size 720x360 with 1 Axes>"
      ]
     },
     "metadata": {
      "needs_background": "light"
     },
     "output_type": "display_data"
    }
   ],
   "source": [
    "feat_imp(RF_neg_rec_pipe)"
   ]
  },
  {
   "cell_type": "code",
   "execution_count": 26,
   "metadata": {},
   "outputs": [
    {
     "data": {
      "text/plain": [
       "<sklearn.metrics._plot.confusion_matrix.ConfusionMatrixDisplay at 0x219468a7488>"
      ]
     },
     "execution_count": 26,
     "metadata": {},
     "output_type": "execute_result"
    },
    {
     "data": {
      "image/png": "[encoded data removed]",
      "text/plain": [
       "<Figure size 432x288 with 2 Axes>"
      ]
     },
     "metadata": {
      "needs_background": "light"
     },
     "output_type": "display_data"
    }
   ],
   "source": [
    "plot_confusion_matrix(RF_neg_rec_pipe,X_test,y_test)"
   ]
  },
  {
   "cell_type": "code",
   "execution_count": 27,
   "metadata": {
    "scrolled": true
   },
   "outputs": [
    {
     "data": {
      "text/html": [
       "<div>\n",
       "<style scoped>\n",
       "    .dataframe tbody tr th:only-of-type {\n",
       "        vertical-align: middle;\n",
       "    }\n",
       "\n",
       "    .dataframe tbody tr th {\n",
       "        vertical-align: top;\n",
       "    }\n",
       "\n",
       "    .dataframe thead th {\n",
       "        text-align: right;\n",
       "    }\n",
       "</style>\n",
       "<table border=\"1\" class=\"dataframe\">\n",
       "  <thead>\n",
       "    <tr style=\"text-align: right;\">\n",
       "      <th></th>\n",
       "      <th>accuracy</th>\n",
       "      <th>balanced accuracy</th>\n",
       "      <th>precision avg</th>\n",
       "      <th>recall avg</th>\n",
       "      <th>precision (++)</th>\n",
       "      <th>precision (+)</th>\n",
       "      <th>precision (-)</th>\n",
       "      <th>precision (--)</th>\n",
       "      <th>recall (++)</th>\n",
       "      <th>recall (+)</th>\n",
       "      <th>recall (-)</th>\n",
       "      <th>recall (--)</th>\n",
       "      <th>pos neg class</th>\n",
       "      <th>max depth</th>\n",
       "    </tr>\n",
       "  </thead>\n",
       "  <tbody>\n",
       "    <tr>\n",
       "      <th>RFC_base</th>\n",
       "      <td>0.854545</td>\n",
       "      <td>0.851807</td>\n",
       "      <td>0.857781</td>\n",
       "      <td>0.854545</td>\n",
       "      <td>0.886364</td>\n",
       "      <td>0.851064</td>\n",
       "      <td>0.735294</td>\n",
       "      <td>0.925</td>\n",
       "      <td>0.906977</td>\n",
       "      <td>0.833333</td>\n",
       "      <td>0.806452</td>\n",
       "      <td>0.860465</td>\n",
       "      <td>0.963636</td>\n",
       "      <td>None</td>\n",
       "    </tr>\n",
       "    <tr>\n",
       "      <th>RFC_neg_recall</th>\n",
       "      <td>0.842424</td>\n",
       "      <td>0.837928</td>\n",
       "      <td>0.845481</td>\n",
       "      <td>0.842424</td>\n",
       "      <td>0.866667</td>\n",
       "      <td>0.833333</td>\n",
       "      <td>0.727273</td>\n",
       "      <td>0.923077</td>\n",
       "      <td>0.906977</td>\n",
       "      <td>0.833333</td>\n",
       "      <td>0.774194</td>\n",
       "      <td>0.837209</td>\n",
       "      <td>0.963636</td>\n",
       "      <td>9</td>\n",
       "    </tr>\n",
       "    <tr>\n",
       "      <th>RFC_pos_neg_class</th>\n",
       "      <td>0.830303</td>\n",
       "      <td>0.826906</td>\n",
       "      <td>0.832617</td>\n",
       "      <td>0.830303</td>\n",
       "      <td>0.863636</td>\n",
       "      <td>0.8125</td>\n",
       "      <td>0.727273</td>\n",
       "      <td>0.9</td>\n",
       "      <td>0.883721</td>\n",
       "      <td>0.8125</td>\n",
       "      <td>0.774194</td>\n",
       "      <td>0.837209</td>\n",
       "      <td>0.945455</td>\n",
       "      <td>8</td>\n",
       "    </tr>\n",
       "  </tbody>\n",
       "</table>\n",
       "</div>"
      ],
      "text/plain": [
       "                   accuracy balanced accuracy precision avg recall avg  \\\n",
       "RFC_base           0.854545          0.851807      0.857781   0.854545   \n",
       "RFC_neg_recall     0.842424          0.837928      0.845481   0.842424   \n",
       "RFC_pos_neg_class  0.830303          0.826906      0.832617   0.830303   \n",
       "\n",
       "                  precision (++) precision (+) precision (-) precision (--)  \\\n",
       "RFC_base                0.886364      0.851064      0.735294          0.925   \n",
       "RFC_neg_recall          0.866667      0.833333      0.727273       0.923077   \n",
       "RFC_pos_neg_class       0.863636        0.8125      0.727273            0.9   \n",
       "\n",
       "                  recall (++) recall (+) recall (-) recall (--) pos neg class  \\\n",
       "RFC_base             0.906977   0.833333   0.806452    0.860465      0.963636   \n",
       "RFC_neg_recall       0.906977   0.833333   0.774194    0.837209      0.963636   \n",
       "RFC_pos_neg_class    0.883721     0.8125   0.774194    0.837209      0.945455   \n",
       "\n",
       "                  max depth  \n",
       "RFC_base               None  \n",
       "RFC_neg_recall            9  \n",
       "RFC_pos_neg_class         8  "
      ]
     },
     "execution_count": 27,
     "metadata": {},
     "output_type": "execute_result"
    }
   ],
   "source": [
    "model_score.sort_values(by='pos neg class',ascending=False).head(3)"
   ]
  },
  {
   "cell_type": "markdown",
   "metadata": {},
   "source": [
    "Two main insights into the modelling so far. \n",
    "1. Basic random forest optimisation has overall better results compared to tuned hyperparameters. \n",
    "2. The extreme classes for positive and negative have good precision, however, the less extreme classes have the highest tendencies for false negatives.\n",
    "3. The model test performance depends on the train, test split and class imbalance. Here, the weakest performing model is the class with the smallest proportion (-).\n",
    "\n",
    "Unlike the regression modelling which did not show a very high feature importance for wti_spot prices, the classification problem is showing much more significance to one of the most highly correlated features in the EDA."
   ]
  },
  {
   "cell_type": "markdown",
   "metadata": {},
   "source": [
    "## XGBClassifier"
   ]
  },
  {
   "cell_type": "code",
   "execution_count": 28,
   "metadata": {},
   "outputs": [
    {
     "data": {
      "text/html": [
       "<div>\n",
       "<style scoped>\n",
       "    .dataframe tbody tr th:only-of-type {\n",
       "        vertical-align: middle;\n",
       "    }\n",
       "\n",
       "    .dataframe tbody tr th {\n",
       "        vertical-align: top;\n",
       "    }\n",
       "\n",
       "    .dataframe thead th {\n",
       "        text-align: right;\n",
       "    }\n",
       "</style>\n",
       "<table border=\"1\" class=\"dataframe\">\n",
       "  <thead>\n",
       "    <tr style=\"text-align: right;\">\n",
       "      <th></th>\n",
       "      <th>accuracy</th>\n",
       "      <th>balanced accuracy</th>\n",
       "      <th>precision avg</th>\n",
       "      <th>recall avg</th>\n",
       "      <th>precision (++)</th>\n",
       "      <th>precision (+)</th>\n",
       "      <th>precision (-)</th>\n",
       "      <th>precision (--)</th>\n",
       "      <th>recall (++)</th>\n",
       "      <th>recall (+)</th>\n",
       "      <th>recall (-)</th>\n",
       "      <th>recall (--)</th>\n",
       "      <th>pos neg class</th>\n",
       "      <th>max depth</th>\n",
       "    </tr>\n",
       "  </thead>\n",
       "  <tbody>\n",
       "    <tr>\n",
       "      <th>XGB_base</th>\n",
       "      <td>0.8</td>\n",
       "      <td>0.802509</td>\n",
       "      <td>0.808</td>\n",
       "      <td>0.8</td>\n",
       "      <td>0.804348</td>\n",
       "      <td>0.795455</td>\n",
       "      <td>0.675676</td>\n",
       "      <td>0.921053</td>\n",
       "      <td>0.860465</td>\n",
       "      <td>0.729167</td>\n",
       "      <td>0.806452</td>\n",
       "      <td>0.813953</td>\n",
       "      <td>0.945455</td>\n",
       "      <td>None</td>\n",
       "    </tr>\n",
       "  </tbody>\n",
       "</table>\n",
       "</div>"
      ],
      "text/plain": [
       "         accuracy balanced accuracy precision avg recall avg precision (++)  \\\n",
       "XGB_base      0.8          0.802509         0.808        0.8       0.804348   \n",
       "\n",
       "         precision (+) precision (-) precision (--) recall (++) recall (+)  \\\n",
       "XGB_base      0.795455      0.675676       0.921053    0.860465   0.729167   \n",
       "\n",
       "         recall (-) recall (--) pos neg class max depth  \n",
       "XGB_base   0.806452    0.813953      0.945455      None  "
      ]
     },
     "execution_count": 28,
     "metadata": {},
     "output_type": "execute_result"
    }
   ],
   "source": [
    "model = XGBClassifier(objective='multi:softmax',booster='gbtree')\n",
    "\n",
    "model_name = 'XGB_base'\n",
    "\n",
    "grid_params={}\n",
    "\n",
    "XGB_base_pipe = GridSearchCV(Pipeline([('model',model)]),scoring=pos_neg_class_scorer,cv=5,param_grid=grid_params,n_jobs=-1)\n",
    "\n",
    "XGB_base_pipe.fit(X_train,y_train)\n",
    "\n",
    "y_pred = XGB_base_pipe.predict(X_test)\n",
    "\n",
    "add_model_score(XGB_base_pipe,model_name,y_test,y_pred)"
   ]
  },
  {
   "cell_type": "code",
   "execution_count": 29,
   "metadata": {},
   "outputs": [
    {
     "data": {
      "image/png": "[encoded data removed]",
      "text/plain": [
       "<Figure size 720x360 with 1 Axes>"
      ]
     },
     "metadata": {
      "needs_background": "light"
     },
     "output_type": "display_data"
    }
   ],
   "source": [
    "feat_imp(XGB_base_pipe)"
   ]
  },
  {
   "cell_type": "code",
   "execution_count": 30,
   "metadata": {},
   "outputs": [
    {
     "data": {
      "text/plain": [
       "<sklearn.metrics._plot.confusion_matrix.ConfusionMatrixDisplay at 0x21946eabfc8>"
      ]
     },
     "execution_count": 30,
     "metadata": {},
     "output_type": "execute_result"
    },
    {
     "data": {
      "image/png": "[encoded data removed]",
      "text/plain": [
       "<Figure size 432x288 with 2 Axes>"
      ]
     },
     "metadata": {
      "needs_background": "light"
     },
     "output_type": "display_data"
    }
   ],
   "source": [
    "plot_confusion_matrix(XGB_base_pipe,X_test,y_test)"
   ]
  },
  {
   "cell_type": "code",
   "execution_count": 31,
   "metadata": {},
   "outputs": [
    {
     "data": {
      "text/html": [
       "<div>\n",
       "<style scoped>\n",
       "    .dataframe tbody tr th:only-of-type {\n",
       "        vertical-align: middle;\n",
       "    }\n",
       "\n",
       "    .dataframe tbody tr th {\n",
       "        vertical-align: top;\n",
       "    }\n",
       "\n",
       "    .dataframe thead th {\n",
       "        text-align: right;\n",
       "    }\n",
       "</style>\n",
       "<table border=\"1\" class=\"dataframe\">\n",
       "  <thead>\n",
       "    <tr style=\"text-align: right;\">\n",
       "      <th></th>\n",
       "      <th>accuracy</th>\n",
       "      <th>balanced accuracy</th>\n",
       "      <th>precision avg</th>\n",
       "      <th>recall avg</th>\n",
       "      <th>precision (++)</th>\n",
       "      <th>precision (+)</th>\n",
       "      <th>precision (-)</th>\n",
       "      <th>precision (--)</th>\n",
       "      <th>recall (++)</th>\n",
       "      <th>recall (+)</th>\n",
       "      <th>recall (-)</th>\n",
       "      <th>recall (--)</th>\n",
       "      <th>pos neg class</th>\n",
       "      <th>max depth</th>\n",
       "    </tr>\n",
       "  </thead>\n",
       "  <tbody>\n",
       "    <tr>\n",
       "      <th>XGB_pos_neg_class</th>\n",
       "      <td>0.8</td>\n",
       "      <td>0.799653</td>\n",
       "      <td>0.81289</td>\n",
       "      <td>0.8</td>\n",
       "      <td>0.863636</td>\n",
       "      <td>0.8</td>\n",
       "      <td>0.615385</td>\n",
       "      <td>0.918919</td>\n",
       "      <td>0.883721</td>\n",
       "      <td>0.75</td>\n",
       "      <td>0.774194</td>\n",
       "      <td>0.790698</td>\n",
       "      <td>0.927273</td>\n",
       "      <td>2</td>\n",
       "    </tr>\n",
       "  </tbody>\n",
       "</table>\n",
       "</div>"
      ],
      "text/plain": [
       "                  accuracy balanced accuracy precision avg recall avg  \\\n",
       "XGB_pos_neg_class      0.8          0.799653       0.81289        0.8   \n",
       "\n",
       "                  precision (++) precision (+) precision (-) precision (--)  \\\n",
       "XGB_pos_neg_class       0.863636           0.8      0.615385       0.918919   \n",
       "\n",
       "                  recall (++) recall (+) recall (-) recall (--) pos neg class  \\\n",
       "XGB_pos_neg_class    0.883721       0.75   0.774194    0.790698      0.927273   \n",
       "\n",
       "                  max depth  \n",
       "XGB_pos_neg_class         2  "
      ]
     },
     "execution_count": 31,
     "metadata": {},
     "output_type": "execute_result"
    }
   ],
   "source": [
    "model = XGBClassifier(objective='multi:softmax',booster='gbtree')\n",
    "scaler = StandardScaler()\n",
    "\n",
    "model_name = 'XGB_pos_neg_class'\n",
    "\n",
    "grid_params = {\n",
    "    'model__learning_rate': [0.2], #np.arange(0.1,1,step=0.05),\n",
    "    'model__n_estimators': [41], #np.arange(30,50,step=1),\n",
    "    'model__max_depth' : [2], #np.arange(1,10,step=1),\n",
    "    'model__gamma' : [0.7], #np.arange(0,1,step=0.1),\n",
    "    'model__lambda' : [0.3], #np.arange(0,1.1,step=0.1),\n",
    "    'model__alpha' : [0], #np.arange(0,1.1,step=0.1),\n",
    "    'scaler': [StandardScaler()] #, MinMaxScaler(),None]\n",
    "}\n",
    "\n",
    "XGB_gscv_pipe = GridSearchCV(Pipeline([('scaler',scaler),('model',model)]),scoring=pos_neg_class_scorer,cv=5,param_grid=grid_params,n_jobs=-1)\n",
    "\n",
    "XGB_gscv_pipe.fit(X_train,y_train)\n",
    "\n",
    "y_pred = XGB_gscv_pipe.predict(X_test)\n",
    "\n",
    "add_model_score(XGB_gscv_pipe,model_name,y_test,y_pred)\n"
   ]
  },
  {
   "cell_type": "code",
   "execution_count": 32,
   "metadata": {},
   "outputs": [
    {
     "data": {
      "image/png": "[encoded data removed]",
      "text/plain": [
       "<Figure size 720x360 with 1 Axes>"
      ]
     },
     "metadata": {
      "needs_background": "light"
     },
     "output_type": "display_data"
    }
   ],
   "source": [
    "feat_imp(XGB_gscv_pipe)"
   ]
  },
  {
   "cell_type": "code",
   "execution_count": 33,
   "metadata": {},
   "outputs": [
    {
     "data": {
      "text/plain": [
       "<sklearn.metrics._plot.confusion_matrix.ConfusionMatrixDisplay at 0x21946e97088>"
      ]
     },
     "execution_count": 33,
     "metadata": {},
     "output_type": "execute_result"
    },
    {
     "data": {
      "image/png": "[encoded data removed]",
      "text/plain": [
       "<Figure size 432x288 with 2 Axes>"
      ]
     },
     "metadata": {
      "needs_background": "light"
     },
     "output_type": "display_data"
    }
   ],
   "source": [
    "plot_confusion_matrix(XGB_gscv_pipe,X_test,y_test)"
   ]
  },
  {
   "cell_type": "code",
   "execution_count": 34,
   "metadata": {},
   "outputs": [
    {
     "data": {
      "text/html": [
       "<div>\n",
       "<style scoped>\n",
       "    .dataframe tbody tr th:only-of-type {\n",
       "        vertical-align: middle;\n",
       "    }\n",
       "\n",
       "    .dataframe tbody tr th {\n",
       "        vertical-align: top;\n",
       "    }\n",
       "\n",
       "    .dataframe thead th {\n",
       "        text-align: right;\n",
       "    }\n",
       "</style>\n",
       "<table border=\"1\" class=\"dataframe\">\n",
       "  <thead>\n",
       "    <tr style=\"text-align: right;\">\n",
       "      <th></th>\n",
       "      <th>accuracy</th>\n",
       "      <th>balanced accuracy</th>\n",
       "      <th>precision avg</th>\n",
       "      <th>recall avg</th>\n",
       "      <th>precision (++)</th>\n",
       "      <th>precision (+)</th>\n",
       "      <th>precision (-)</th>\n",
       "      <th>precision (--)</th>\n",
       "      <th>recall (++)</th>\n",
       "      <th>recall (+)</th>\n",
       "      <th>recall (-)</th>\n",
       "      <th>recall (--)</th>\n",
       "      <th>pos neg class</th>\n",
       "      <th>max depth</th>\n",
       "    </tr>\n",
       "  </thead>\n",
       "  <tbody>\n",
       "    <tr>\n",
       "      <th>XGB_neg_recall</th>\n",
       "      <td>0.781818</td>\n",
       "      <td>0.769142</td>\n",
       "      <td>0.7883</td>\n",
       "      <td>0.781818</td>\n",
       "      <td>0.837209</td>\n",
       "      <td>0.696429</td>\n",
       "      <td>0.678571</td>\n",
       "      <td>0.921053</td>\n",
       "      <td>0.837209</td>\n",
       "      <td>0.8125</td>\n",
       "      <td>0.612903</td>\n",
       "      <td>0.813953</td>\n",
       "      <td>0.915152</td>\n",
       "      <td>2</td>\n",
       "    </tr>\n",
       "  </tbody>\n",
       "</table>\n",
       "</div>"
      ],
      "text/plain": [
       "                accuracy balanced accuracy precision avg recall avg  \\\n",
       "XGB_neg_recall  0.781818          0.769142        0.7883   0.781818   \n",
       "\n",
       "               precision (++) precision (+) precision (-) precision (--)  \\\n",
       "XGB_neg_recall       0.837209      0.696429      0.678571       0.921053   \n",
       "\n",
       "               recall (++) recall (+) recall (-) recall (--) pos neg class  \\\n",
       "XGB_neg_recall    0.837209     0.8125   0.612903    0.813953      0.915152   \n",
       "\n",
       "               max depth  \n",
       "XGB_neg_recall         2  "
      ]
     },
     "execution_count": 34,
     "metadata": {},
     "output_type": "execute_result"
    }
   ],
   "source": [
    "model = XGBClassifier(objective='multi:softmax',booster='gbtree')\n",
    "scaler = StandardScaler()\n",
    "\n",
    "model_name = 'XGB_neg_recall'\n",
    "\n",
    "grid_params = {\n",
    "    'model__learning_rate': [0.59], #np.arange(0.4,1,step=0.01),\n",
    "    'model__n_estimators': [25], #np.arange(20,50,step=1),\n",
    "    'model__max_depth' : [2], #np.arange(1,10,step=1),\n",
    "    'model__gamma' : [0.7], #np.arange(0,1,step=0.1),\n",
    "    'model__lambda' : [0.3], #np.arange(0,1.1,step=0.05),\n",
    "    'model__alpha' : [0], #np.arange(0,1.1,step=0.1),\n",
    "    'scaler': [StandardScaler()] #, MinMaxScaler(),None]\n",
    "}\n",
    "\n",
    "XGB_neg_rec_pipe = GridSearchCV(Pipeline([('scaler',scaler),('model',model)]),scoring=recall_neg_scorer,param_grid=grid_params,cv=5,n_jobs=-1)\n",
    "\n",
    "XGB_neg_rec_pipe.fit(X_train,y_train)\n",
    "\n",
    "y_pred = XGB_neg_rec_pipe.predict(X_test)\n",
    "\n",
    "add_model_score(XGB_neg_rec_pipe,model_name,y_test,y_pred)"
   ]
  },
  {
   "cell_type": "code",
   "execution_count": 35,
   "metadata": {},
   "outputs": [
    {
     "data": {
      "image/png": "[encoded data removed]",
      "text/plain": [
       "<Figure size 720x360 with 1 Axes>"
      ]
     },
     "metadata": {
      "needs_background": "light"
     },
     "output_type": "display_data"
    }
   ],
   "source": [
    "feat_imp(XGB_neg_rec_pipe)"
   ]
  },
  {
   "cell_type": "code",
   "execution_count": 36,
   "metadata": {},
   "outputs": [
    {
     "data": {
      "text/plain": [
       "<sklearn.metrics._plot.confusion_matrix.ConfusionMatrixDisplay at 0x2194563d188>"
      ]
     },
     "execution_count": 36,
     "metadata": {},
     "output_type": "execute_result"
    },
    {
     "data": {
      "image/png": "[encoded data removed]",
      "text/plain": [
       "<Figure size 432x288 with 2 Axes>"
      ]
     },
     "metadata": {
      "needs_background": "light"
     },
     "output_type": "display_data"
    }
   ],
   "source": [
    "plot_confusion_matrix(XGB_neg_rec_pipe,X_test,y_test)"
   ]
  },
  {
   "cell_type": "code",
   "execution_count": 37,
   "metadata": {},
   "outputs": [
    {
     "data": {
      "text/html": [
       "<div>\n",
       "<style scoped>\n",
       "    .dataframe tbody tr th:only-of-type {\n",
       "        vertical-align: middle;\n",
       "    }\n",
       "\n",
       "    .dataframe tbody tr th {\n",
       "        vertical-align: top;\n",
       "    }\n",
       "\n",
       "    .dataframe thead th {\n",
       "        text-align: right;\n",
       "    }\n",
       "</style>\n",
       "<table border=\"1\" class=\"dataframe\">\n",
       "  <thead>\n",
       "    <tr style=\"text-align: right;\">\n",
       "      <th></th>\n",
       "      <th>accuracy</th>\n",
       "      <th>balanced accuracy</th>\n",
       "      <th>precision avg</th>\n",
       "      <th>recall avg</th>\n",
       "      <th>precision (++)</th>\n",
       "      <th>precision (+)</th>\n",
       "      <th>precision (-)</th>\n",
       "      <th>precision (--)</th>\n",
       "      <th>recall (++)</th>\n",
       "      <th>recall (+)</th>\n",
       "      <th>recall (-)</th>\n",
       "      <th>recall (--)</th>\n",
       "      <th>pos neg class</th>\n",
       "      <th>max depth</th>\n",
       "    </tr>\n",
       "  </thead>\n",
       "  <tbody>\n",
       "    <tr>\n",
       "      <th>RFC_base</th>\n",
       "      <td>0.854545</td>\n",
       "      <td>0.851807</td>\n",
       "      <td>0.857781</td>\n",
       "      <td>0.854545</td>\n",
       "      <td>0.886364</td>\n",
       "      <td>0.851064</td>\n",
       "      <td>0.735294</td>\n",
       "      <td>0.925</td>\n",
       "      <td>0.906977</td>\n",
       "      <td>0.833333</td>\n",
       "      <td>0.806452</td>\n",
       "      <td>0.860465</td>\n",
       "      <td>0.963636</td>\n",
       "      <td>None</td>\n",
       "    </tr>\n",
       "    <tr>\n",
       "      <th>RFC_neg_recall</th>\n",
       "      <td>0.842424</td>\n",
       "      <td>0.837928</td>\n",
       "      <td>0.845481</td>\n",
       "      <td>0.842424</td>\n",
       "      <td>0.866667</td>\n",
       "      <td>0.833333</td>\n",
       "      <td>0.727273</td>\n",
       "      <td>0.923077</td>\n",
       "      <td>0.906977</td>\n",
       "      <td>0.833333</td>\n",
       "      <td>0.774194</td>\n",
       "      <td>0.837209</td>\n",
       "      <td>0.963636</td>\n",
       "      <td>9</td>\n",
       "    </tr>\n",
       "    <tr>\n",
       "      <th>RFC_pos_neg_class</th>\n",
       "      <td>0.830303</td>\n",
       "      <td>0.826906</td>\n",
       "      <td>0.832617</td>\n",
       "      <td>0.830303</td>\n",
       "      <td>0.863636</td>\n",
       "      <td>0.8125</td>\n",
       "      <td>0.727273</td>\n",
       "      <td>0.9</td>\n",
       "      <td>0.883721</td>\n",
       "      <td>0.8125</td>\n",
       "      <td>0.774194</td>\n",
       "      <td>0.837209</td>\n",
       "      <td>0.945455</td>\n",
       "      <td>8</td>\n",
       "    </tr>\n",
       "    <tr>\n",
       "      <th>XGB_base</th>\n",
       "      <td>0.8</td>\n",
       "      <td>0.802509</td>\n",
       "      <td>0.808</td>\n",
       "      <td>0.8</td>\n",
       "      <td>0.804348</td>\n",
       "      <td>0.795455</td>\n",
       "      <td>0.675676</td>\n",
       "      <td>0.921053</td>\n",
       "      <td>0.860465</td>\n",
       "      <td>0.729167</td>\n",
       "      <td>0.806452</td>\n",
       "      <td>0.813953</td>\n",
       "      <td>0.945455</td>\n",
       "      <td>None</td>\n",
       "    </tr>\n",
       "    <tr>\n",
       "      <th>XGB_pos_neg_class</th>\n",
       "      <td>0.8</td>\n",
       "      <td>0.799653</td>\n",
       "      <td>0.81289</td>\n",
       "      <td>0.8</td>\n",
       "      <td>0.863636</td>\n",
       "      <td>0.8</td>\n",
       "      <td>0.615385</td>\n",
       "      <td>0.918919</td>\n",
       "      <td>0.883721</td>\n",
       "      <td>0.75</td>\n",
       "      <td>0.774194</td>\n",
       "      <td>0.790698</td>\n",
       "      <td>0.927273</td>\n",
       "      <td>2</td>\n",
       "    </tr>\n",
       "    <tr>\n",
       "      <th>XGB_neg_recall</th>\n",
       "      <td>0.781818</td>\n",
       "      <td>0.769142</td>\n",
       "      <td>0.7883</td>\n",
       "      <td>0.781818</td>\n",
       "      <td>0.837209</td>\n",
       "      <td>0.696429</td>\n",
       "      <td>0.678571</td>\n",
       "      <td>0.921053</td>\n",
       "      <td>0.837209</td>\n",
       "      <td>0.8125</td>\n",
       "      <td>0.612903</td>\n",
       "      <td>0.813953</td>\n",
       "      <td>0.915152</td>\n",
       "      <td>2</td>\n",
       "    </tr>\n",
       "    <tr>\n",
       "      <th>baseline_dummy_class</th>\n",
       "      <td>0.260606</td>\n",
       "      <td>0.250352</td>\n",
       "      <td>0.26108</td>\n",
       "      <td>0.260606</td>\n",
       "      <td>0.210526</td>\n",
       "      <td>0.375</td>\n",
       "      <td>0.147059</td>\n",
       "      <td>0.266667</td>\n",
       "      <td>0.186047</td>\n",
       "      <td>0.375</td>\n",
       "      <td>0.16129</td>\n",
       "      <td>0.27907</td>\n",
       "      <td>0.509091</td>\n",
       "      <td>NaN</td>\n",
       "    </tr>\n",
       "    <tr>\n",
       "      <th>KMeans_base</th>\n",
       "      <td>0.109091</td>\n",
       "      <td>0.119628</td>\n",
       "      <td>0.13212</td>\n",
       "      <td>0.109091</td>\n",
       "      <td>0.166667</td>\n",
       "      <td>0.0877193</td>\n",
       "      <td>0.258065</td>\n",
       "      <td>0.056338</td>\n",
       "      <td>0.0232558</td>\n",
       "      <td>0.104167</td>\n",
       "      <td>0.258065</td>\n",
       "      <td>0.0930233</td>\n",
       "      <td>0.430303</td>\n",
       "      <td>NaN</td>\n",
       "    </tr>\n",
       "  </tbody>\n",
       "</table>\n",
       "</div>"
      ],
      "text/plain": [
       "                      accuracy balanced accuracy precision avg recall avg  \\\n",
       "RFC_base              0.854545          0.851807      0.857781   0.854545   \n",
       "RFC_neg_recall        0.842424          0.837928      0.845481   0.842424   \n",
       "RFC_pos_neg_class     0.830303          0.826906      0.832617   0.830303   \n",
       "XGB_base                   0.8          0.802509         0.808        0.8   \n",
       "XGB_pos_neg_class          0.8          0.799653       0.81289        0.8   \n",
       "XGB_neg_recall        0.781818          0.769142        0.7883   0.781818   \n",
       "baseline_dummy_class  0.260606          0.250352       0.26108   0.260606   \n",
       "KMeans_base           0.109091          0.119628       0.13212   0.109091   \n",
       "\n",
       "                     precision (++) precision (+) precision (-)  \\\n",
       "RFC_base                   0.886364      0.851064      0.735294   \n",
       "RFC_neg_recall             0.866667      0.833333      0.727273   \n",
       "RFC_pos_neg_class          0.863636        0.8125      0.727273   \n",
       "XGB_base                   0.804348      0.795455      0.675676   \n",
       "XGB_pos_neg_class          0.863636           0.8      0.615385   \n",
       "XGB_neg_recall             0.837209      0.696429      0.678571   \n",
       "baseline_dummy_class       0.210526         0.375      0.147059   \n",
       "KMeans_base                0.166667     0.0877193      0.258065   \n",
       "\n",
       "                     precision (--) recall (++) recall (+) recall (-)  \\\n",
       "RFC_base                      0.925    0.906977   0.833333   0.806452   \n",
       "RFC_neg_recall             0.923077    0.906977   0.833333   0.774194   \n",
       "RFC_pos_neg_class               0.9    0.883721     0.8125   0.774194   \n",
       "XGB_base                   0.921053    0.860465   0.729167   0.806452   \n",
       "XGB_pos_neg_class          0.918919    0.883721       0.75   0.774194   \n",
       "XGB_neg_recall             0.921053    0.837209     0.8125   0.612903   \n",
       "baseline_dummy_class       0.266667    0.186047      0.375    0.16129   \n",
       "KMeans_base                0.056338   0.0232558   0.104167   0.258065   \n",
       "\n",
       "                     recall (--) pos neg class max depth  \n",
       "RFC_base                0.860465      0.963636      None  \n",
       "RFC_neg_recall          0.837209      0.963636         9  \n",
       "RFC_pos_neg_class       0.837209      0.945455         8  \n",
       "XGB_base                0.813953      0.945455      None  \n",
       "XGB_pos_neg_class       0.790698      0.927273         2  \n",
       "XGB_neg_recall          0.813953      0.915152         2  \n",
       "baseline_dummy_class     0.27907      0.509091       NaN  \n",
       "KMeans_base            0.0930233      0.430303       NaN  "
      ]
     },
     "execution_count": 37,
     "metadata": {},
     "output_type": "execute_result"
    }
   ],
   "source": [
    "model_score.sort_values(by=['pos neg class','recall avg'],ascending=False)"
   ]
  },
  {
   "cell_type": "markdown",
   "metadata": {},
   "source": [
    "### Summary"
   ]
  },
  {
   "cell_type": "markdown",
   "metadata": {},
   "source": [
    "* The most important measurement of model performance here is to be able to correctly predict a positive, or negative change. This is defined as the \"positive negative classification\".\n",
    "* Second is to reduce the misclassification from exteme opposites ('--' to '++')\n",
    "* Finally, accuracy, precision, recall.\n",
    "\n",
    "The RFC / XGB models consistently preform well (better than 25% random guess, dummy classifier, and KMeans), and perform better than 90% for the positive and negative classification, in addition to 80% for precision and recall.\n",
    "\n",
    "The XGB models are much simpler (max depth = 2), however the accuracy of the models is worse by a few points across the board.\n",
    "\n",
    "With the accuracy of the model prediction being absolutely key to the value of the model, RFC will be used for final model choice despite the more complicated parameters."
   ]
  },
  {
   "cell_type": "code",
   "execution_count": 39,
   "metadata": {},
   "outputs": [
    {
     "data": {
      "text/html": [
       "<div>\n",
       "<style scoped>\n",
       "    .dataframe tbody tr th:only-of-type {\n",
       "        vertical-align: middle;\n",
       "    }\n",
       "\n",
       "    .dataframe tbody tr th {\n",
       "        vertical-align: top;\n",
       "    }\n",
       "\n",
       "    .dataframe thead th {\n",
       "        text-align: right;\n",
       "    }\n",
       "</style>\n",
       "<table border=\"1\" class=\"dataframe\">\n",
       "  <thead>\n",
       "    <tr style=\"text-align: right;\">\n",
       "      <th></th>\n",
       "      <th>accuracy</th>\n",
       "      <th>balanced accuracy</th>\n",
       "      <th>precision avg</th>\n",
       "      <th>recall avg</th>\n",
       "      <th>precision (++)</th>\n",
       "      <th>precision (+)</th>\n",
       "      <th>precision (-)</th>\n",
       "      <th>precision (--)</th>\n",
       "      <th>recall (++)</th>\n",
       "      <th>recall (+)</th>\n",
       "      <th>recall (-)</th>\n",
       "      <th>recall (--)</th>\n",
       "      <th>pos neg class</th>\n",
       "      <th>max depth</th>\n",
       "    </tr>\n",
       "  </thead>\n",
       "  <tbody>\n",
       "    <tr>\n",
       "      <th>RFC_base_import</th>\n",
       "      <td>0.854545</td>\n",
       "      <td>0.851807</td>\n",
       "      <td>0.857781</td>\n",
       "      <td>0.854545</td>\n",
       "      <td>0.886364</td>\n",
       "      <td>0.851064</td>\n",
       "      <td>0.735294</td>\n",
       "      <td>0.925</td>\n",
       "      <td>0.906977</td>\n",
       "      <td>0.833333</td>\n",
       "      <td>0.806452</td>\n",
       "      <td>0.860465</td>\n",
       "      <td>0.963636</td>\n",
       "      <td>None</td>\n",
       "    </tr>\n",
       "  </tbody>\n",
       "</table>\n",
       "</div>"
      ],
      "text/plain": [
       "                 accuracy balanced accuracy precision avg recall avg  \\\n",
       "RFC_base_import  0.854545          0.851807      0.857781   0.854545   \n",
       "\n",
       "                precision (++) precision (+) precision (-) precision (--)  \\\n",
       "RFC_base_import       0.886364      0.851064      0.735294          0.925   \n",
       "\n",
       "                recall (++) recall (+) recall (-) recall (--) pos neg class  \\\n",
       "RFC_base_import    0.906977   0.833333   0.806452    0.860465      0.963636   \n",
       "\n",
       "                max depth  \n",
       "RFC_base_import      None  "
      ]
     },
     "execution_count": 39,
     "metadata": {},
     "output_type": "execute_result"
    }
   ],
   "source": [
    "from joblib import dump, load\n",
    "\n",
    "model_out = dump(RF_base_pipe, 'best_model.joblib')\n",
    "model_in = load('best_model.joblib')\n",
    "\n",
    "y_pred = model_in.predict(X_test)\n",
    "\n",
    "add_model_score(model_in,'RFC_base_import',y_test,y_pred)"
   ]
  },
  {
   "cell_type": "markdown",
   "metadata": {},
   "source": [
    "### Review of model mis-classifications\n",
    "\n",
    "#### True '+', Predicted '-'"
   ]
  },
  {
   "cell_type": "code",
   "execution_count": null,
   "metadata": {},
   "outputs": [],
   "source": [
    "y_comb = pd.concat([y_test,pd.Series(y_pred,index=y_test.index),pct_change_test['rig_pct_change_week+8']],ignore_index=True,axis=1)\n",
    "y_comb.columns = ['test','pred','pct_change']\n",
    "\n",
    "df_quantiles = pd.read_csv(data_processed_dir+'quantiles.csv',index_col=0).loc['week+8',:]\n",
    "\n",
    "print(df_quantiles)\n",
    "\n",
    "def misclass_check(y_comb,test_val,pred_val):\n",
    "    misclass = y_comb[(y_comb.test == test_val) & (y_comb.pred == pred_val)]\n",
    "    \n",
    "    inc_index = y_comb[(y_comb.test == test_val) & (y_comb.pred == pred_val)].sort_index().index.to_list()\n",
    "    \n",
    "    fig, ax = plt.subplots(figsize=(10,5))\n",
    "    ax.plot(df.date,df['Total US RigCount'],c='b',alpha=0.5,label='Rig Count Data')\n",
    "    ax.scatter(df.date[inc_index],df['Total US RigCount'][inc_index],c='r',alpha=1,s=10,label='data')\n",
    "    ax.scatter(df.date[[x-8 for x in inc_index]],df['Total US RigCount'][[x-8 for x in inc_index]],c='g',alpha=1,s=10,label='predicted')\n",
    "\n",
    "    ax.legend()\n",
    "    \n",
    "    plt.show()\n",
    "    \n",
    "    return misclass"
   ]
  },
  {
   "cell_type": "code",
   "execution_count": null,
   "metadata": {
    "scrolled": false
   },
   "outputs": [],
   "source": [
    "misclass_check(y_comb,'+','-')"
   ]
  },
  {
   "cell_type": "markdown",
   "metadata": {},
   "source": [
    "Index 461 is a very small increase, close to zero. Indeces 141 and 381 are farther away from zero but close to zero. Again, not a very significant issue for these borderline classifications.\n",
    "\n",
    "#### True '-', Predicted '+'"
   ]
  },
  {
   "cell_type": "code",
   "execution_count": null,
   "metadata": {},
   "outputs": [],
   "source": [
    "misclass_check(y_comb,'-','+')"
   ]
  },
  {
   "cell_type": "markdown",
   "metadata": {},
   "source": [
    "Indeces 104 and 423 have no change. Index 423 is less than a percent decrease. These misclassifications are very close to the border between class bins.\n",
    "\n",
    "#### True '++', Predicted '+'"
   ]
  },
  {
   "cell_type": "code",
   "execution_count": null,
   "metadata": {},
   "outputs": [],
   "source": [
    "misclass_check(y_comb,'++','+')"
   ]
  },
  {
   "cell_type": "markdown",
   "metadata": {},
   "source": [
    "#### True '+', Predicted '++'"
   ]
  },
  {
   "cell_type": "code",
   "execution_count": null,
   "metadata": {},
   "outputs": [],
   "source": [
    "misclass_check(y_comb,'+','++')"
   ]
  },
  {
   "cell_type": "markdown",
   "metadata": {},
   "source": [
    "#### True '--', Predicted '-'"
   ]
  },
  {
   "cell_type": "code",
   "execution_count": null,
   "metadata": {},
   "outputs": [],
   "source": [
    "misclass_check(y_comb,'--','-')"
   ]
  },
  {
   "cell_type": "markdown",
   "metadata": {},
   "source": [
    "#### True '-', Predicted '--'"
   ]
  },
  {
   "cell_type": "code",
   "execution_count": null,
   "metadata": {},
   "outputs": [],
   "source": [
    "misclass_check(y_comb,'-','--')"
   ]
  }
 ],
 "metadata": {
  "kernelspec": {
   "display_name": "Python 3",
   "language": "python",
   "name": "python3"
  },
  "language_info": {
   "codemirror_mode": {
    "name": "ipython",
    "version": 3
   },
   "file_extension": ".py",
   "mimetype": "text/x-python",
   "name": "python",
   "nbconvert_exporter": "python",
   "pygments_lexer": "ipython3",
   "version": "3.8.3"
  }
 },
 "nbformat": 4,
 "nbformat_minor": 4
}
